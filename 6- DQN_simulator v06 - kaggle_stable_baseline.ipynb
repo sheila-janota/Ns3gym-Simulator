{
 "cells": [
  {
   "cell_type": "code",
   "execution_count": 1,
   "metadata": {},
   "outputs": [],
   "source": [
    "# instalar as bibliotecas:\n",
    "# pip install stable-baselines3[extra]\n",
    "# pip install lib\n",
    "# pip install kaggle-environments\n",
    "# pip install tf-slim\n",
    "\n",
    "\n",
    "import gym\n",
    "from gym import spaces\n",
    "\n",
    "import numpy.random as rnd\n",
    "import numpy as np\n",
    "import random\n",
    "import tensorflow as tf\n",
    "import tf_slim as slim \n",
    "\n",
    "import matplotlib as mpl\n",
    "import matplotlib.pyplot as plt\n",
    "from tensorflow import keras\n",
    "from collections import deque \n",
    "from sklearn.preprocessing import label_binarize\n",
    "\n",
    "from stable_baselines3.common.env_checker import check_env"
   ]
  },
  {
   "cell_type": "code",
   "execution_count": 2,
   "metadata": {},
   "outputs": [
    {
     "name": "stdout",
     "output_type": "stream",
     "text": [
      "Matriz dos Estados:\n",
      "[[1 0 0 0]\n",
      " [0 1 0 0]\n",
      " [0 0 1 0]\n",
      " [0 0 0 1]]\n"
     ]
    }
   ],
   "source": [
    "state = label_binarize([0, 1, 2, 3], classes=[0, 1, 2, 3])\n",
    "print(\"Matriz dos Estados:\")\n",
    "print(state)"
   ]
  },
  {
   "cell_type": "markdown",
   "metadata": {},
   "source": [
    "# Ambiente Gym Customizado\n",
    "https://colab.research.google.com/github/araffin/rl-tutorial-jnrr19/blob/master/5_custom_gym_env.ipynb#scrollTo=rYzDXA9vJfz1"
   ]
  },
  {
   "cell_type": "code",
   "execution_count": 3,
   "metadata": {},
   "outputs": [],
   "source": [
    "# Creating the custom environment: ChannelOccupancy \n",
    "\n",
    "class ChannelOccupancyEnv(gym.Env):\n",
    "    \n",
    "    def __init__(self):\n",
    "        super(ChannelOccupancyEnv, self).__init__()\n",
    "        \n",
    "        # Filled in reset function\n",
    "        self.action_space = None\n",
    "        self.observation_space = None\n",
    "        self.full_states = label_binarize([0, 1, 2, 3], classes=[0, 1, 2, 3])\n",
    "        self.state = None\n",
    "        self.steps_beyond_done = None\n",
    "        done = False\n",
    "\n",
    "        # Define action and observation space\n",
    "        # They must be gym.spaces objects\n",
    "    \n",
    "        self.action_space = spaces.Discrete(4)\n",
    "    \n",
    "        # The observation will be the coordinate of the agent\n",
    "        # this can be described both by Discrete and Box space\n",
    "        self.observation_space = spaces.Box(low=0.0, high=1.0, shape=(4,), dtype=np.float32)\n",
    "    \n",
    "    def reset(self):\n",
    "        self.state = self.full_states[0,:]\n",
    "        return self.state \n",
    "    \n",
    "    def step(self, action):\n",
    "        done = False\n",
    "        M= 1\n",
    "        for m in range(M):\n",
    "            #print('this self',self.state)\n",
    "            #self.state = self.full_states[0,:] #self.full_states[m % 4,:]\n",
    "            #print(self.full_states[0] == self.state)\n",
    "            \n",
    "            # Como inicialmente o State já se encontra na posição de indice 0, então encontra o index do ele não nulo\n",
    "            currentStateIndex = np.argwhere(self.state == 1)\n",
    "            \n",
    "            # partir do indice anterior add +1 para a posicção seguinte da matriz de estados\n",
    "            nextStateIndex = (currentStateIndex[0][0] + 1) % 4\n",
    "            \n",
    "            if action == 0 or action == 1 or action ==2 or action == 3:\n",
    "                \n",
    "                #self.next_state = self.full_states[(m + 1) % 4,:]\n",
    "                self.next_state = self.full_states[nextStateIndex]\n",
    "                \n",
    "                            \n",
    "            next_state_idx = np.argwhere(self.next_state==1)[0][0]\n",
    "            \n",
    "            if action == next_state_idx:\n",
    "                reward = -1.0\n",
    "            else:\n",
    "                reward = +1.0\n",
    "            \n",
    "            self.state = self.next_state\n",
    "                \n",
    "               #np.array([self.next_state]).astype(np.float32), reward, {}, {}\n",
    "        return self.next_state, reward, done, {}\n",
    "        \n",
    "        \n",
    "    def render(self, mode='human'):\n",
    "        return\n",
    "    \n",
    "    def close(self):\n",
    "        pass"
   ]
  },
  {
   "cell_type": "markdown",
   "metadata": {},
   "source": [
    "# Validação do Ambiente"
   ]
  },
  {
   "cell_type": "code",
   "execution_count": 4,
   "metadata": {},
   "outputs": [],
   "source": [
    "env = ChannelOccupancyEnv()\n",
    "# If the environment don't follow the interface, an error will be thrown\n",
    "check_env(env, warn=True)"
   ]
  },
  {
   "cell_type": "markdown",
   "metadata": {},
   "source": [
    "# Testando o Ambiente"
   ]
  },
  {
   "cell_type": "code",
   "execution_count": 5,
   "metadata": {},
   "outputs": [
    {
     "name": "stdout",
     "output_type": "stream",
     "text": [
      "obs space          : Box(0.0, 1.0, (4,), float32)\n",
      "action space       : Discrete(4)\n"
     ]
    },
    {
     "data": {
      "text/plain": [
       "'\\nn_steps = 10\\nfor step in range(n_steps):\\n    \\n    action = env.action_space.sample()\\n    print(\"Step {}\".format(step + 1))    \\n    next_state, reward, done, info = env.step(action)\\n    print(\"estado atual:\",state)\\n    print(\"next_state  :\", next_state)\\n    print(\"action      :\",action)\\n    print(\"reward      :\", reward)\\n    #print(\\'state\\',state, \\'next_state=\\', next_state, \\'reward=\\', reward, \\'done=\\', done)\\n    state = next_state\\n\\n    env.render()\\n    #if done:\\n    #    print(\"reward=\", reward)\\n'"
      ]
     },
     "execution_count": 5,
     "metadata": {},
     "output_type": "execute_result"
    }
   ],
   "source": [
    "env = ChannelOccupancyEnv()\n",
    "\n",
    "state = env.reset()\n",
    "epsilon = 0.6\n",
    "env.render()\n",
    "\n",
    "print(\"obs space          :\", env.observation_space)\n",
    "print(\"action space       :\", env.action_space)\n",
    "#print(\"action space sample:\", env.action_space.sample())\n",
    "\n",
    "#action = env.action_space.sample()\n",
    "\"\"\"\n",
    "n_steps = 10\n",
    "for step in range(n_steps):\n",
    "    \n",
    "    action = env.action_space.sample()\n",
    "    print(\"Step {}\".format(step + 1))    \n",
    "    next_state, reward, done, info = env.step(action)\n",
    "    print(\"estado atual:\",state)\n",
    "    print(\"next_state  :\", next_state)\n",
    "    print(\"action      :\",action)\n",
    "    print(\"reward      :\", reward)\n",
    "    #print('state',state, 'next_state=', next_state, 'reward=', reward, 'done=', done)\n",
    "    state = next_state\n",
    "\n",
    "    env.render()\n",
    "    #if done:\n",
    "    #    print(\"reward=\", reward)\n",
    "\"\"\""
   ]
  },
  {
   "cell_type": "markdown",
   "metadata": {},
   "source": [
    "# Utilizando o ambiente para treinamento com SB3"
   ]
  },
  {
   "cell_type": "code",
   "execution_count": 6,
   "metadata": {},
   "outputs": [
    {
     "name": "stderr",
     "output_type": "stream",
     "text": [
      "/home/sheila/anaconda3/lib/python3.8/site-packages/stable_baselines3/common/cmd_util.py:5: FutureWarning: Module ``common.cmd_util`` has been renamed to ``common.env_util`` and will be removed in the future.\n",
      "  warnings.warn(\n"
     ]
    }
   ],
   "source": [
    "from stable_baselines3 import DQN # chama a biblioteca que já implementa o algoritmo DQN \n",
    "from stable_baselines3.common.cmd_util import make_vec_env\n",
    "\n",
    "\n",
    "# Instantiate the env\n",
    "env = ChannelOccupancyEnv()\n",
    "# create vectorized \n",
    "env = make_vec_env(lambda: env, n_envs=1)"
   ]
  },
  {
   "cell_type": "markdown",
   "metadata": {},
   "source": [
    "# Alterando a estrutura da rede\n",
    "por definição a rede já vem configurada com 2 hidden layers de 64 nós, como não estamos usando nenhum hidden layer nesta implementação, então net_arch=[] não recebe nenhum valor.\n",
    "https://stable-baselines3.readthedocs.io/en/master/guide/custom_policy.html#custom-network-architecture"
   ]
  },
  {
   "cell_type": "code",
   "execution_count": 7,
   "metadata": {},
   "outputs": [],
   "source": [
    "import gym\n",
    "import torch as th\n",
    "\n",
    "# altera a configuracao da rede neural\n",
    "#policy_kwargs = dict(activation_fn=th.nn.ReLU,\n",
    "#                     net_arch=[])"
   ]
  },
  {
   "cell_type": "code",
   "execution_count": 8,
   "metadata": {},
   "outputs": [
    {
     "name": "stdout",
     "output_type": "stream",
     "text": [
      "Using cpu device\n"
     ]
    }
   ],
   "source": [
    "# Create the agent\n",
    "model = DQN('MlpPolicy', env, verbose=1) #policy_kwargs=policy_kwargs,"
   ]
  },
  {
   "cell_type": "code",
   "execution_count": 9,
   "metadata": {},
   "outputs": [
    {
     "data": {
      "text/plain": [
       "DQNPolicy(\n",
       "  (q_net): QNetwork(\n",
       "    (features_extractor): FlattenExtractor(\n",
       "      (flatten): Flatten(start_dim=1, end_dim=-1)\n",
       "    )\n",
       "    (q_net): Sequential(\n",
       "      (0): Linear(in_features=4, out_features=64, bias=True)\n",
       "      (1): ReLU()\n",
       "      (2): Linear(in_features=64, out_features=64, bias=True)\n",
       "      (3): ReLU()\n",
       "      (4): Linear(in_features=64, out_features=4, bias=True)\n",
       "    )\n",
       "  )\n",
       "  (q_net_target): QNetwork(\n",
       "    (features_extractor): FlattenExtractor(\n",
       "      (flatten): Flatten(start_dim=1, end_dim=-1)\n",
       "    )\n",
       "    (q_net): Sequential(\n",
       "      (0): Linear(in_features=4, out_features=64, bias=True)\n",
       "      (1): ReLU()\n",
       "      (2): Linear(in_features=64, out_features=64, bias=True)\n",
       "      (3): ReLU()\n",
       "      (4): Linear(in_features=64, out_features=4, bias=True)\n",
       "    )\n",
       "  )\n",
       ")"
      ]
     },
     "execution_count": 9,
     "metadata": {},
     "output_type": "execute_result"
    }
   ],
   "source": [
    "model.policy"
   ]
  },
  {
   "cell_type": "code",
   "execution_count": 10,
   "metadata": {},
   "outputs": [
    {
     "data": {
      "text/plain": [
       "<stable_baselines3.dqn.dqn.DQN at 0x7ff656c27fd0>"
      ]
     },
     "execution_count": 10,
     "metadata": {},
     "output_type": "execute_result"
    }
   ],
   "source": [
    "# Train the agent\n",
    "model.learn(total_timesteps=10000, log_interval=4)"
   ]
  },
  {
   "cell_type": "code",
   "execution_count": 11,
   "metadata": {
    "scrolled": false
   },
   "outputs": [
    {
     "name": "stdout",
     "output_type": "stream",
     "text": [
      "Step 1 \n",
      "\n",
      "Action     = 3\n",
      "c_state    = [1. 0. 0. 0.]\n",
      "next_state = [0. 1. 0. 0.] reward= 1.0 \n",
      "\n",
      "---------------------\n",
      "Step 2 \n",
      "\n",
      "Action     = 2\n",
      "c_state    = [0. 1. 0. 0.]\n",
      "next_state = [0. 0. 1. 0.] reward= -1.0 \n",
      "\n",
      "---------------------\n",
      "Step 3 \n",
      "\n",
      "Action     = 3\n",
      "c_state    = [0. 0. 1. 0.]\n",
      "next_state = [0. 0. 0. 1.] reward= -1.0 \n",
      "\n",
      "---------------------\n",
      "Step 4 \n",
      "\n",
      "Action     = 2\n",
      "c_state    = [0. 0. 0. 1.]\n",
      "next_state = [1. 0. 0. 0.] reward= 1.0 \n",
      "\n",
      "---------------------\n",
      "Step 5 \n",
      "\n",
      "Action     = 3\n",
      "c_state    = [1. 0. 0. 0.]\n",
      "next_state = [0. 1. 0. 0.] reward= 1.0 \n",
      "\n",
      "---------------------\n",
      "Step 6 \n",
      "\n",
      "Action     = 2\n",
      "c_state    = [0. 1. 0. 0.]\n",
      "next_state = [0. 0. 1. 0.] reward= -1.0 \n",
      "\n",
      "---------------------\n",
      "Step 7 \n",
      "\n",
      "Action     = 3\n",
      "c_state    = [0. 0. 1. 0.]\n",
      "next_state = [0. 0. 0. 1.] reward= -1.0 \n",
      "\n",
      "---------------------\n",
      "Step 8 \n",
      "\n",
      "Action     = 2\n",
      "c_state    = [0. 0. 0. 1.]\n",
      "next_state = [1. 0. 0. 0.] reward= 1.0 \n",
      "\n",
      "---------------------\n",
      "Step 9 \n",
      "\n",
      "Action     = 3\n",
      "c_state    = [1. 0. 0. 0.]\n",
      "next_state = [0. 1. 0. 0.] reward= 1.0 \n",
      "\n",
      "---------------------\n",
      "Step 10 \n",
      "\n",
      "Action     = 2\n",
      "c_state    = [0. 1. 0. 0.]\n",
      "next_state = [0. 0. 1. 0.] reward= -1.0 \n",
      "\n",
      "---------------------\n",
      "Step 11 \n",
      "\n",
      "Action     = 3\n",
      "c_state    = [0. 0. 1. 0.]\n",
      "next_state = [0. 0. 0. 1.] reward= -1.0 \n",
      "\n",
      "---------------------\n",
      "Step 12 \n",
      "\n",
      "Action     = 2\n",
      "c_state    = [0. 0. 0. 1.]\n",
      "next_state = [1. 0. 0. 0.] reward= 1.0 \n",
      "\n",
      "---------------------\n",
      "Step 13 \n",
      "\n",
      "Action     = 3\n",
      "c_state    = [1. 0. 0. 0.]\n",
      "next_state = [0. 1. 0. 0.] reward= 1.0 \n",
      "\n",
      "---------------------\n",
      "Step 14 \n",
      "\n",
      "Action     = 2\n",
      "c_state    = [0. 1. 0. 0.]\n",
      "next_state = [0. 0. 1. 0.] reward= -1.0 \n",
      "\n",
      "---------------------\n",
      "Step 15 \n",
      "\n",
      "Action     = 3\n",
      "c_state    = [0. 0. 1. 0.]\n",
      "next_state = [0. 0. 0. 1.] reward= -1.0 \n",
      "\n",
      "---------------------\n",
      "Step 16 \n",
      "\n",
      "Action     = 2\n",
      "c_state    = [0. 0. 0. 1.]\n",
      "next_state = [1. 0. 0. 0.] reward= 1.0 \n",
      "\n",
      "---------------------\n",
      "Step 17 \n",
      "\n",
      "Action     = 3\n",
      "c_state    = [1. 0. 0. 0.]\n",
      "next_state = [0. 1. 0. 0.] reward= 1.0 \n",
      "\n",
      "---------------------\n",
      "Step 18 \n",
      "\n",
      "Action     = 2\n",
      "c_state    = [0. 1. 0. 0.]\n",
      "next_state = [0. 0. 1. 0.] reward= -1.0 \n",
      "\n",
      "---------------------\n",
      "Step 19 \n",
      "\n",
      "Action     = 3\n",
      "c_state    = [0. 0. 1. 0.]\n",
      "next_state = [0. 0. 0. 1.] reward= -1.0 \n",
      "\n",
      "---------------------\n",
      "Step 20 \n",
      "\n",
      "Action     = 2\n",
      "c_state    = [0. 0. 0. 1.]\n",
      "next_state = [1. 0. 0. 0.] reward= 1.0 \n",
      "\n",
      "---------------------\n"
     ]
    }
   ],
   "source": [
    "# Test the trained agent\n",
    "state = env.reset()\n",
    "n_steps = 20\n",
    "\n",
    "for step in range(n_steps):\n",
    "    \n",
    "    #print(\"c_state=\", state)\n",
    "    action, _ = model.predict(state, deterministic=True) # a action já vem definida no algoritmo_DQN da SB3\n",
    "    print(\"Step {}\".format(step + 1), \"\\n\")\n",
    "    print(\"Action     =\", action[0])\n",
    "    print(\"c_state    =\", state[0])\n",
    "    next_state, reward, done, info = env.step(action)\n",
    "    print('next_state =', next_state[0], 'reward=', reward[0], \"\\n\")\n",
    "    state = next_state\n",
    "    \n",
    "    print(\"---------------------\")\n",
    "    \n",
    "    "
   ]
  },
  {
   "cell_type": "code",
   "execution_count": 12,
   "metadata": {},
   "outputs": [],
   "source": [
    "state = label_binarize([0, 1, 2, 3], classes=[0, 1, 2, 3])"
   ]
  },
  {
   "cell_type": "code",
   "execution_count": 13,
   "metadata": {},
   "outputs": [
    {
     "name": "stdout",
     "output_type": "stream",
     "text": [
      "Estado atual: [1 0 0 0]\n",
      "Q: 3\n",
      "-----\n",
      "\n",
      "Estado atual: [0 1 0 0]\n",
      "Q: 2\n",
      "-----\n",
      "\n",
      "Estado atual: [0 0 1 0]\n",
      "Q: 3\n",
      "-----\n",
      "\n",
      "Estado atual: [0 0 0 1]\n",
      "Q: 2\n",
      "-----\n",
      "\n"
     ]
    }
   ],
   "source": [
    "for idx in range(4):\n",
    "\n",
    "    c_state = state[idx] \n",
    "    print(\"Estado atual:\", c_state)\n",
    " \n",
    "    q = model.predict(c_state, deterministic=True)\n",
    "    print('Q:',q[0])\n",
    "    print('-----\\n')"
   ]
  },
  {
   "cell_type": "markdown",
   "metadata": {},
   "source": [
    "# Estrutura da rede neural quando não há hidden layers"
   ]
  },
  {
   "cell_type": "code",
   "execution_count": 11,
   "metadata": {},
   "outputs": [
    {
     "data": {
      "text/plain": [
       "DQNPolicy(\n",
       "  (q_net): QNetwork(\n",
       "    (features_extractor): FlattenExtractor(\n",
       "      (flatten): Flatten(start_dim=1, end_dim=-1)\n",
       "    )\n",
       "    (q_net): Sequential(\n",
       "      (0): Linear(in_features=4, out_features=4, bias=True)\n",
       "    )\n",
       "  )\n",
       "  (q_net_target): QNetwork(\n",
       "    (features_extractor): FlattenExtractor(\n",
       "      (flatten): Flatten(start_dim=1, end_dim=-1)\n",
       "    )\n",
       "    (q_net): Sequential(\n",
       "      (0): Linear(in_features=4, out_features=4, bias=True)\n",
       "    )\n",
       "  )\n",
       ")"
      ]
     },
     "execution_count": 11,
     "metadata": {},
     "output_type": "execute_result"
    }
   ],
   "source": [
    "model.policy"
   ]
  },
  {
   "cell_type": "code",
   "execution_count": null,
   "metadata": {},
   "outputs": [],
   "source": []
  }
 ],
 "metadata": {
  "kernelspec": {
   "display_name": "Python 3",
   "language": "python",
   "name": "python3"
  },
  "language_info": {
   "codemirror_mode": {
    "name": "ipython",
    "version": 3
   },
   "file_extension": ".py",
   "mimetype": "text/x-python",
   "name": "python",
   "nbconvert_exporter": "python",
   "pygments_lexer": "ipython3",
   "version": "3.8.5"
  }
 },
 "nbformat": 4,
 "nbformat_minor": 5
}
